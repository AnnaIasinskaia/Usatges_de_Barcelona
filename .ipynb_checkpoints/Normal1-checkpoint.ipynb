{
 "cells": [
  {
   "cell_type": "code",
   "execution_count": 1,
   "metadata": {},
   "outputs": [],
   "source": [
    "import AnnDiplomMatrix\n",
    "import numpy as np\n",
    "from scipy.spatial import distance\n",
    "import time"
   ]
  },
  {
   "cell_type": "code",
   "execution_count": 2,
   "metadata": {},
   "outputs": [],
   "source": [
    "def ContextAnalyse(path1, path2):\n",
    "    #print(\"Load matrix 1 from file:\", path1)\n",
    "    x = AnnDiplomMatrix.text2matrixNdict(path1)\n",
    "    #print(\"Load matrix 2 from file:\", path2)\n",
    "    y = AnnDiplomMatrix.text2matrixNdict(path2)\n",
    "    \n",
    "    g = list(x.numeratedDict.keys())+list(y.numeratedDict.keys())\n",
    "    g = list(set(g))\n",
    "    g.sort()\n",
    "    max_size = len(g)\n",
    "    numeratedDict_g = dict(zip(g, range(max_size)))\n",
    "    new_matrix_x = np.zeros((max_size, max_size))\n",
    "    new_matrix_y = np.zeros((max_size, max_size))\n",
    "    start_t = time.clock()\n",
    "    for i in g:\n",
    "        \n",
    "        for j in g:\n",
    "            #print(i, j)\n",
    "            if i in x.numeratedDict.keys() and j in x.numeratedDict.keys():\n",
    "                i_i = x.numeratedDict[i]\n",
    "                j_j = x.numeratedDict[j]\n",
    "\n",
    "                new_matrix_x[numeratedDict_g[i], numeratedDict_g[j]] = x.matrix[i_i, j_j]      \n",
    "    for i in g:\n",
    "\n",
    "        for j in g:\n",
    "            #print(i, j)\n",
    "            if i in y.numeratedDict.keys() and j in y.numeratedDict.keys():\n",
    "                i_i = y.numeratedDict[i]\n",
    "                j_j = y.numeratedDict[j]\n",
    "\n",
    "                new_matrix_y[numeratedDict_g[i], numeratedDict_g[j]] = y.matrix[i_i, j_j]    \n",
    "    a = new_matrix_x.flatten()\n",
    "    b = new_matrix_y.flatten()\n",
    "    return distance.cosine(a, b)"
   ]
  },
  {
   "cell_type": "code",
   "execution_count": 3,
   "metadata": {},
   "outputs": [],
   "source": [
    "def FrequencyAnalyse(path1, path2):\n",
    "    x = AnnDiplomMatrix.text2matrixNdictFreq(path1)\n",
    "    y = AnnDiplomMatrix.text2matrixNdictFreq(path2)\n",
    "    g = list(x.numeratedDict.keys())+list(y.numeratedDict.keys())\n",
    "    g = list(set(g))\n",
    "    g.sort()\n",
    "    max_size = len(g)\n",
    "    numeratedDict_g = dict(zip(g, range(max_size)))\n",
    "\n",
    "    new_matrix_x = np.zeros((max_size))\n",
    "    new_matrix_y = np.zeros((max_size))\n",
    "\n",
    "    for i in g:\n",
    "        #print(i, j)\n",
    "        if i in x.numeratedDict.keys() and i in x.numeratedDict.keys():\n",
    "            i_i = x.numeratedDict[i]\n",
    "            new_matrix_x[numeratedDict_g[i]] = x.matrix[i_i]   \n",
    "    for i in g:\n",
    "        #print(i, j)\n",
    "        if i in y.numeratedDict.keys() and i in y.numeratedDict.keys():\n",
    "            i_i = y.numeratedDict[i]\n",
    "            new_matrix_y[numeratedDict_g[i]] = y.matrix[i_i] \n",
    "\n",
    "    a = new_matrix_x.flatten()\n",
    "    b = new_matrix_y.flatten()\n",
    "    return distance.cosine(a, b)"
   ]
  },
  {
   "cell_type": "code",
   "execution_count": 4,
   "metadata": {},
   "outputs": [],
   "source": [
    "#path1 = \"Latin.docx\"\n",
    "#path2 = \"Этимологии.docx\"\n",
    "\n",
    "#print(\"Context cosine:\", round(ContextAnalyse(path1, path2),4))\n",
    "#print(\"Frequency cosine:\", round(FrequencyAnalyse(path1, path2),4))"
   ]
  },
  {
   "cell_type": "code",
   "execution_count": 7,
   "metadata": {},
   "outputs": [
    {
     "name": "stdout",
     "output_type": "stream",
     "text": [
      "D:\\Рабочие материалы\\Тексты в docx\\Isidori Hispalensis Episcopi Etymologiarum.docx\n"
     ]
    },
    {
     "name": "stderr",
     "output_type": "stream",
     "text": [
      "D:\\Anaconda\\lib\\site-packages\\ipykernel_launcher.py:14: DeprecationWarning: time.clock has been deprecated in Python 3.3 and will be removed from Python 3.8: use time.perf_counter or time.process_time instead\n",
      "  \n"
     ]
    },
    {
     "name": "stdout",
     "output_type": "stream",
     "text": [
      "Context cosine: 0.9857\n",
      "Frequency cosine: 0.7299\n",
      "D:\\Рабочие материалы\\Тексты в docx\\EVANGELIUM.docx\n",
      "Context cosine: 0.9664\n",
      "Frequency cosine: 0.8075\n",
      "D:\\Рабочие материалы\\Тексты в docx\\Exeptionis Legum Romanorum Petri.docx\n",
      "Context cosine: 0.9529\n",
      "Frequency cosine: 0.5384\n",
      "D:\\Рабочие материалы\\Тексты в docx\\Lex visigothorum.docx\n",
      "Context cosine: 0.941\n",
      "Frequency cosine: 0.7717\n",
      "D:\\Рабочие материалы\\Тексты в docx\\Corpus Juris Civilis.docx\n"
     ]
    },
    {
     "ename": "MemoryError",
     "evalue": "Unable to allocate 3.52 GiB for an array with shape (472149441,) and data type float64",
     "output_type": "error",
     "traceback": [
      "\u001b[1;31m---------------------------------------------------------------------------\u001b[0m",
      "\u001b[1;31mMemoryError\u001b[0m                               Traceback (most recent call last)",
      "\u001b[1;32m<ipython-input-7-8e4489e151bb>\u001b[0m in \u001b[0;36m<module>\u001b[1;34m\u001b[0m\n\u001b[0;32m     10\u001b[0m     \u001b[0mprint\u001b[0m\u001b[1;33m(\u001b[0m\u001b[0mx\u001b[0m\u001b[1;33m)\u001b[0m\u001b[1;33m\u001b[0m\u001b[1;33m\u001b[0m\u001b[0m\n\u001b[0;32m     11\u001b[0m     \u001b[1;31m#print(\"Context cosine calculating\")\u001b[0m\u001b[1;33m\u001b[0m\u001b[1;33m\u001b[0m\u001b[1;33m\u001b[0m\u001b[0m\n\u001b[1;32m---> 12\u001b[1;33m     \u001b[0mprint\u001b[0m\u001b[1;33m(\u001b[0m\u001b[1;34m\"Context cosine:\"\u001b[0m\u001b[1;33m,\u001b[0m \u001b[0mround\u001b[0m\u001b[1;33m(\u001b[0m\u001b[0mContextAnalyse\u001b[0m\u001b[1;33m(\u001b[0m\u001b[0mpath\u001b[0m\u001b[1;33m,\u001b[0m \u001b[0mx\u001b[0m\u001b[1;33m)\u001b[0m\u001b[1;33m,\u001b[0m\u001b[1;36m4\u001b[0m\u001b[1;33m)\u001b[0m\u001b[1;33m)\u001b[0m\u001b[1;33m\u001b[0m\u001b[1;33m\u001b[0m\u001b[0m\n\u001b[0m\u001b[0;32m     13\u001b[0m \u001b[1;33m\u001b[0m\u001b[0m\n\u001b[0;32m     14\u001b[0m     \u001b[1;31m#print(\"Frequency cosine calculating\")\u001b[0m\u001b[1;33m\u001b[0m\u001b[1;33m\u001b[0m\u001b[1;33m\u001b[0m\u001b[0m\n",
      "\u001b[1;32m<ipython-input-2-bba99ebefedc>\u001b[0m in \u001b[0;36mContextAnalyse\u001b[1;34m(path1, path2)\u001b[0m\n\u001b[0;32m     33\u001b[0m     \u001b[0ma\u001b[0m \u001b[1;33m=\u001b[0m \u001b[0mnew_matrix_x\u001b[0m\u001b[1;33m.\u001b[0m\u001b[0mflatten\u001b[0m\u001b[1;33m(\u001b[0m\u001b[1;33m)\u001b[0m\u001b[1;33m\u001b[0m\u001b[1;33m\u001b[0m\u001b[0m\n\u001b[0;32m     34\u001b[0m     \u001b[0mb\u001b[0m \u001b[1;33m=\u001b[0m \u001b[0mnew_matrix_y\u001b[0m\u001b[1;33m.\u001b[0m\u001b[0mflatten\u001b[0m\u001b[1;33m(\u001b[0m\u001b[1;33m)\u001b[0m\u001b[1;33m\u001b[0m\u001b[1;33m\u001b[0m\u001b[0m\n\u001b[1;32m---> 35\u001b[1;33m     \u001b[1;32mreturn\u001b[0m \u001b[0mdistance\u001b[0m\u001b[1;33m.\u001b[0m\u001b[0mcosine\u001b[0m\u001b[1;33m(\u001b[0m\u001b[0ma\u001b[0m\u001b[1;33m,\u001b[0m \u001b[0mb\u001b[0m\u001b[1;33m)\u001b[0m\u001b[1;33m\u001b[0m\u001b[1;33m\u001b[0m\u001b[0m\n\u001b[0m",
      "\u001b[1;32mD:\\Anaconda\\lib\\site-packages\\scipy\\spatial\\distance.py\u001b[0m in \u001b[0;36mcosine\u001b[1;34m(u, v, w)\u001b[0m\n\u001b[0;32m    764\u001b[0m     \u001b[1;31m# cosine distance is also referred to as 'uncentered correlation',\u001b[0m\u001b[1;33m\u001b[0m\u001b[1;33m\u001b[0m\u001b[1;33m\u001b[0m\u001b[0m\n\u001b[0;32m    765\u001b[0m     \u001b[1;31m#   or 'reflective correlation'\u001b[0m\u001b[1;33m\u001b[0m\u001b[1;33m\u001b[0m\u001b[1;33m\u001b[0m\u001b[0m\n\u001b[1;32m--> 766\u001b[1;33m     \u001b[1;32mreturn\u001b[0m \u001b[0mcorrelation\u001b[0m\u001b[1;33m(\u001b[0m\u001b[0mu\u001b[0m\u001b[1;33m,\u001b[0m \u001b[0mv\u001b[0m\u001b[1;33m,\u001b[0m \u001b[0mw\u001b[0m\u001b[1;33m=\u001b[0m\u001b[0mw\u001b[0m\u001b[1;33m,\u001b[0m \u001b[0mcentered\u001b[0m\u001b[1;33m=\u001b[0m\u001b[1;32mFalse\u001b[0m\u001b[1;33m)\u001b[0m\u001b[1;33m\u001b[0m\u001b[1;33m\u001b[0m\u001b[0m\n\u001b[0m\u001b[0;32m    767\u001b[0m \u001b[1;33m\u001b[0m\u001b[0m\n\u001b[0;32m    768\u001b[0m \u001b[1;33m\u001b[0m\u001b[0m\n",
      "\u001b[1;32mD:\\Anaconda\\lib\\site-packages\\scipy\\spatial\\distance.py\u001b[0m in \u001b[0;36mcorrelation\u001b[1;34m(u, v, w, centered)\u001b[0m\n\u001b[0;32m    715\u001b[0m         \u001b[0mu\u001b[0m \u001b[1;33m=\u001b[0m \u001b[0mu\u001b[0m \u001b[1;33m-\u001b[0m \u001b[0mumu\u001b[0m\u001b[1;33m\u001b[0m\u001b[1;33m\u001b[0m\u001b[0m\n\u001b[0;32m    716\u001b[0m         \u001b[0mv\u001b[0m \u001b[1;33m=\u001b[0m \u001b[0mv\u001b[0m \u001b[1;33m-\u001b[0m \u001b[0mvmu\u001b[0m\u001b[1;33m\u001b[0m\u001b[1;33m\u001b[0m\u001b[0m\n\u001b[1;32m--> 717\u001b[1;33m     \u001b[0muv\u001b[0m \u001b[1;33m=\u001b[0m \u001b[0mnp\u001b[0m\u001b[1;33m.\u001b[0m\u001b[0maverage\u001b[0m\u001b[1;33m(\u001b[0m\u001b[0mu\u001b[0m \u001b[1;33m*\u001b[0m \u001b[0mv\u001b[0m\u001b[1;33m,\u001b[0m \u001b[0mweights\u001b[0m\u001b[1;33m=\u001b[0m\u001b[0mw\u001b[0m\u001b[1;33m)\u001b[0m\u001b[1;33m\u001b[0m\u001b[1;33m\u001b[0m\u001b[0m\n\u001b[0m\u001b[0;32m    718\u001b[0m     \u001b[0muu\u001b[0m \u001b[1;33m=\u001b[0m \u001b[0mnp\u001b[0m\u001b[1;33m.\u001b[0m\u001b[0maverage\u001b[0m\u001b[1;33m(\u001b[0m\u001b[0mnp\u001b[0m\u001b[1;33m.\u001b[0m\u001b[0msquare\u001b[0m\u001b[1;33m(\u001b[0m\u001b[0mu\u001b[0m\u001b[1;33m)\u001b[0m\u001b[1;33m,\u001b[0m \u001b[0mweights\u001b[0m\u001b[1;33m=\u001b[0m\u001b[0mw\u001b[0m\u001b[1;33m)\u001b[0m\u001b[1;33m\u001b[0m\u001b[1;33m\u001b[0m\u001b[0m\n\u001b[0;32m    719\u001b[0m     \u001b[0mvv\u001b[0m \u001b[1;33m=\u001b[0m \u001b[0mnp\u001b[0m\u001b[1;33m.\u001b[0m\u001b[0maverage\u001b[0m\u001b[1;33m(\u001b[0m\u001b[0mnp\u001b[0m\u001b[1;33m.\u001b[0m\u001b[0msquare\u001b[0m\u001b[1;33m(\u001b[0m\u001b[0mv\u001b[0m\u001b[1;33m)\u001b[0m\u001b[1;33m,\u001b[0m \u001b[0mweights\u001b[0m\u001b[1;33m=\u001b[0m\u001b[0mw\u001b[0m\u001b[1;33m)\u001b[0m\u001b[1;33m\u001b[0m\u001b[1;33m\u001b[0m\u001b[0m\n",
      "\u001b[1;31mMemoryError\u001b[0m: Unable to allocate 3.52 GiB for an array with shape (472149441,) and data type float64"
     ]
    }
   ],
   "source": [
    "path = \"Latin.docx\"\n",
    "files2an = [\n",
    "    \"D:\\\\Рабочие материалы\\\\Тексты в docx\\\\Isidori Hispalensis Episcopi Etymologiarum.docx\",\n",
    "    \"D:\\\\Рабочие материалы\\\\Тексты в docx\\\\EVANGELIUM.docx\",\n",
    "    \"D:\\\\Рабочие материалы\\\\Тексты в docx\\\\Exeptionis Legum Romanorum Petri.docx\",\n",
    "    \"D:\\\\Рабочие материалы\\\\Тексты в docx\\\\Lex visigothorum.docx\",\n",
    "    \"D:\\\\Рабочие материалы\\\\Тексты в docx\\\\Corpus Juris Civilis.docx\"\n",
    "]\n",
    "for x in files2an:\n",
    "    print(x)\n",
    "    #print(\"Context cosine calculating\")\n",
    "    print(\"Context cosine:\", round(ContextAnalyse(path, x),4))\n",
    "    \n",
    "    #print(\"Frequency cosine calculating\")\n",
    "    print(\"Frequency cosine:\", round(FrequencyAnalyse(path, x),4))"
   ]
  },
  {
   "cell_type": "code",
   "execution_count": null,
   "metadata": {},
   "outputs": [],
   "source": []
  }
 ],
 "metadata": {
  "kernelspec": {
   "display_name": "Python 3",
   "language": "python",
   "name": "python3"
  },
  "language_info": {
   "codemirror_mode": {
    "name": "ipython",
    "version": 3
   },
   "file_extension": ".py",
   "mimetype": "text/x-python",
   "name": "python",
   "nbconvert_exporter": "python",
   "pygments_lexer": "ipython3",
   "version": "3.7.6"
  }
 },
 "nbformat": 4,
 "nbformat_minor": 2
}
