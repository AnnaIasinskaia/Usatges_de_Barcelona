{
 "cells": [
  {
   "cell_type": "code",
   "execution_count": 1,
   "metadata": {},
   "outputs": [],
   "source": [
    "import csv\n",
    "import json\n",
    "import sys\n",
    "from collections import OrderedDict, Counter\n",
    "from numpy.random import choice\n",
    "import time\n",
    "import math\n",
    "from operator import itemgetter\n",
    "import copy\n",
    "\n",
    "def runLDA(corpus, iterations, alpha, beta):\n",
    "    \"\"\"An implementation of Latent Dirichlet Allocation. Probabilistically\n",
    "        generates \"topics\" for a given corpus, each of which contains many\n",
    "        words that are related by their coocurrence in the text. Uses the\n",
    "        CorpusData data structure containing information about word location\n",
    "        and outputs a list of the words in each topic to the shell after the\n",
    "        desired number of iterations.\n",
    "\n",
    "    Args:\n",
    "        corpus (CorpusData): A data structure that has already called \"loadData\"\n",
    "            on a text.\n",
    "        iterations (int): The desired number of iterations for the LDA algorithm.\n",
    "            More iterations lead to more consistent, coherent topics at the cost of\n",
    "            a longer runtime.\n",
    "        alpha (float): The first \"hyperparameter\" or \"smoothing constant.\" Affects\n",
    "            the P(w|t) calculation. When alpha is higher, documents tend to\n",
    "            represent a greater variety of topics.\n",
    "        beta (float): Another hyperparameter, this one affecting the P(t|d)\n",
    "            calculation. A higher value for beta causes topics to contain a greater\n",
    "            variety of words.\n",
    "\n",
    "    \"\"\"\n",
    "    printProgressBar(0, iterations, prefix='Progress', suffix='complete', length=50)\n",
    "    for i in range(0, iterations):\n",
    "        # getting start time to measure runtime\n",
    "        # delete the line below for the final release!\n",
    "        startTime = time.clock()\n",
    "        for doc in range(len(corpus.wordLocationArray)):\n",
    "            for word in range(len(corpus.wordLocationArray[doc])):\n",
    "                oldTopic = corpus.topicAssignmentByLoc[doc][word]\n",
    "                corpus.removeWordFromDataStructures(word, doc, oldTopic)\n",
    "                wordProbabilities = corpus.calculateProbabilities(doc, word, alpha, beta)\n",
    "                newTopic = choice(range(len(wordProbabilities)), p=wordProbabilities)\n",
    "                corpus.addWordToDataStructures(word, doc, newTopic)\n",
    "        estTime = math.ceil((time.clock() - startTime) * (iterations - i) / 60)\n",
    "        time.sleep(0.1)\n",
    "        if i == iterations-1:\n",
    "            printProgressBar(i + 1, iterations, prefix='Progress', suffix='complete', length=50)\n",
    "        elif (estTime > 0):\n",
    "            printProgressBar(i + 1, iterations, prefix='Progress', suffix='complete', length=50, estTimeRemaining=estTime)\n",
    "        else:\n",
    "            printProgressBar(i + 1, iterations, prefix='Progress', suffix='complete', length=50)"
   ]
  },
  {
   "cell_type": "code",
   "execution_count": null,
   "metadata": {},
   "outputs": [],
   "source": []
  }
 ],
 "metadata": {
  "kernelspec": {
   "display_name": "Python 3",
   "language": "python",
   "name": "python3"
  },
  "language_info": {
   "codemirror_mode": {
    "name": "ipython",
    "version": 3
   },
   "file_extension": ".py",
   "mimetype": "text/x-python",
   "name": "python",
   "nbconvert_exporter": "python",
   "pygments_lexer": "ipython3",
   "version": "3.6.9"
  }
 },
 "nbformat": 4,
 "nbformat_minor": 4
}
